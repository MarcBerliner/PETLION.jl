{
 "cells": [
  {
   "cell_type": "markdown",
   "metadata": {},
   "source": [
    "Start by loading the PETLION package"
   ]
  },
  {
   "cell_type": "code",
   "execution_count": 1,
   "metadata": {},
   "outputs": [],
   "source": [
    "using PETLION"
   ]
  },
  {
   "cell_type": "markdown",
   "metadata": {},
   "source": [
    "Let's see how long it takes to create the model for an isothermal, LCO battery"
   ]
  },
  {
   "cell_type": "code",
   "execution_count": 2,
   "metadata": {},
   "outputs": [
    {
     "name": "stdout",
     "output_type": "stream",
     "text": [
      "Creating the functions for param_skeleton:\n",
      "  Cathode: LCO, rxn_BV, & OCV_LCO\n",
      "  Anode:   LiC6, rxn_BV, & OCV_LiC6\n",
      "  System:  D_s_eff, rxn_rate, D_eff_linear, K_eff, & thermodynamic_factor_linear\n",
      "  --------\n",
      "  Temperature:     false\n",
      "  Solid diffusion: Fickian, finite_difference\n",
      "  Aging:           false\n",
      "  Voltage bounds:  [2.5 V, 4.3 V]\n",
      "  SOC bounds:      [0.0, 1.0]\n",
      "  --------\n",
      "  N.p:   10\n",
      "  N.r_p: 10\n",
      "  N.s:   10\n",
      "  N.n:   10\n",
      "  N.r_n: 10\n",
      "\n",
      "May take a few minutes...\n",
      "Making initial guess function\n",
      "Making symbolic model\n",
      "Making symbolic Jacobian\n",
      "Making initial condition functions\n",
      "Finished\n",
      "\n",
      "108.473750 seconds (241.09 M allocations: 13.017 GiB, 4.23% gc time, 3.05% compilation time)\n"
     ]
    },
    {
     "data": {
      "text/plain": [
       "param{jacobian_symbolic}:\n",
       "  Cathode: LCO, rxn_BV, & OCV_LCO\n",
       "  Anode:   LiC6, rxn_BV, & OCV_LiC6\n",
       "  System:  D_s_eff, rxn_rate, D_eff_linear, K_eff, & thermodynamic_factor_linear\n",
       "  --------\n",
       "  Temperature:     false\n",
       "  Solid diffusion: Fickian, finite_difference\n",
       "  Aging:           false\n",
       "  Voltage bounds:  [2.5 V, 4.3 V]\n",
       "  SOC bounds:      [0.0, 1.0]\n",
       "  --------\n",
       "  N.p:   10\n",
       "  N.r_p: 10\n",
       "  N.s:   10\n",
       "  N.n:   10\n",
       "  N.r_n: 10"
      ]
     },
     "execution_count": 2,
     "metadata": {},
     "output_type": "execute_result"
    }
   ],
   "source": [
    "@time p = Params(\n",
    "    LCO;\n",
    "    N_p = 10, # discretizations in the cathode\n",
    "    N_s = 10, # discretizations in the separator\n",
    "    N_n = 10, # discretizations in the anode\n",
    "    N_r_p = 10, # discretizations in the solid cathode particles\n",
    "    N_r_n = 10, # discretizations in the solid anode particles\n",
    "    temperature = false # temperature enabled or disabled\n",
    ")"
   ]
  },
  {
   "cell_type": "markdown",
   "metadata": {},
   "source": [
    "Quite awhile! The good news is we only need to do this once, every other time the model is loaded from the folder `saved_models` in your working directory which is much faster.\n",
    "\n",
    "Now, let's try running a 1C discharge starting from full capacity."
   ]
  },
  {
   "cell_type": "code",
   "execution_count": 3,
   "metadata": {},
   "outputs": [
    {
     "name": "stdout",
     "output_type": "stream",
     "text": [
      " 66.724029 seconds (176.40 M allocations: 28.151 GiB, 20.05% gc time)\n"
     ]
    },
    {
     "data": {
      "text/plain": [
       "PETLION model\n",
       "  --------\n",
       "  Run:     I\n",
       "  Time:    3604.24 s\n",
       "  Voltage: 2.8687 V\n",
       "  Current: -1C\n",
       "  Power:   -83.8509 W\n",
       "  SOC:     0.0\n",
       "  Exit:    Below minimum SOC limit"
      ]
     },
     "execution_count": 3,
     "metadata": {},
     "output_type": "execute_result"
    }
   ],
   "source": [
    "@time model = run_model(p,I=-1,SOC=1)"
   ]
  },
  {
   "cell_type": "markdown",
   "metadata": {},
   "source": [
    "Since Julia is a compiled language, the first run of a function is going to be a little slow. If we run it a few more times we will see its real speed."
   ]
  },
  {
   "cell_type": "code",
   "execution_count": 4,
   "metadata": {},
   "outputs": [
    {
     "name": "stdout",
     "output_type": "stream",
     "text": [
      "  0.039930 seconds (4.95 k allocations: 1.254 MiB, 88.70% compilation time)\n",
      "  0.003514 seconds (1.18 k allocations: 1.065 MiB)\n",
      "  0.003486 seconds (1.18 k allocations: 1.065 MiB)\n",
      "  0.003406 seconds (1.18 k allocations: 1.065 MiB)\n"
     ]
    },
    {
     "data": {
      "text/plain": [
       "PETLION model\n",
       "  --------\n",
       "  Run:     I\n",
       "  Time:    3604.24 s\n",
       "  Voltage: 2.8687 V\n",
       "  Current: -1C\n",
       "  Power:   -83.8509 W\n",
       "  SOC:     0.0\n",
       "  Exit:    Below minimum SOC limit"
      ]
     },
     "execution_count": 4,
     "metadata": {},
     "output_type": "execute_result"
    }
   ],
   "source": [
    "@time model = run_model(p,I=-1,SOC=1)\n",
    "@time model = run_model(p,I=-1,SOC=1)\n",
    "@time model = run_model(p,I=-1,SOC=1)\n",
    "@time model = run_model(p,I=-1,SOC=1)"
   ]
  },
  {
   "cell_type": "markdown",
   "metadata": {},
   "source": [
    "Now we're seeing the performance we want! Let's use the package `BenchmarkTools` to get a more in-depth view of the performance"
   ]
  },
  {
   "cell_type": "code",
   "execution_count": 5,
   "metadata": {},
   "outputs": [
    {
     "data": {
      "text/plain": [
       "BenchmarkTools.Trial: 1632 samples with 1 evaluation.\n",
       " Range \u001b[90m(\u001b[39m\u001b[36m\u001b[1mmin\u001b[22m\u001b[39m … \u001b[35mmax\u001b[39m\u001b[90m):  \u001b[39m\u001b[36m\u001b[1m2.521 ms\u001b[22m\u001b[39m … \u001b[35m  9.395 ms\u001b[39m  \u001b[90m┊\u001b[39m GC \u001b[90m(\u001b[39mmin … max\u001b[90m): \u001b[39m0.00% … 63.07%\n",
       " Time  \u001b[90m(\u001b[39m\u001b[34m\u001b[1mmedian\u001b[22m\u001b[39m\u001b[90m):     \u001b[39m\u001b[34m\u001b[1m2.832 ms               \u001b[22m\u001b[39m\u001b[90m┊\u001b[39m GC \u001b[90m(\u001b[39mmedian\u001b[90m):    \u001b[39m0.00%\n",
       " Time  \u001b[90m(\u001b[39m\u001b[32m\u001b[1mmean\u001b[22m\u001b[39m ± \u001b[32mσ\u001b[39m\u001b[90m):   \u001b[39m\u001b[32m\u001b[1m3.056 ms\u001b[22m\u001b[39m ± \u001b[32m696.455 μs\u001b[39m  \u001b[90m┊\u001b[39m GC \u001b[90m(\u001b[39mmean ± σ\u001b[90m):  \u001b[39m1.83% ±  6.01%\n",
       "\n",
       "  \u001b[39m \u001b[39m \u001b[39m█\u001b[39m▂\u001b[34m \u001b[39m\u001b[39m \u001b[32m \u001b[39m\u001b[39m \u001b[39m \u001b[39m \u001b[39m \u001b[39m \u001b[39m \u001b[39m \u001b[39m \u001b[39m \u001b[39m \u001b[39m \u001b[39m \u001b[39m \u001b[39m \u001b[39m \u001b[39m \u001b[39m \u001b[39m \u001b[39m \u001b[39m \u001b[39m \u001b[39m \u001b[39m \u001b[39m \u001b[39m \u001b[39m \u001b[39m \u001b[39m \u001b[39m \u001b[39m \u001b[39m \u001b[39m \u001b[39m \u001b[39m \u001b[39m \u001b[39m \u001b[39m \u001b[39m \u001b[39m \u001b[39m \u001b[39m \u001b[39m \u001b[39m \u001b[39m \u001b[39m \u001b[39m \u001b[39m \u001b[39m \u001b[39m \u001b[39m \u001b[39m \u001b[39m \u001b[39m \u001b[39m \n",
       "  \u001b[39m▄\u001b[39m▅\u001b[39m█\u001b[39m█\u001b[34m▆\u001b[39m\u001b[39m▅\u001b[32m▄\u001b[39m\u001b[39m▃\u001b[39m▅\u001b[39m▅\u001b[39m▄\u001b[39m▃\u001b[39m▃\u001b[39m▃\u001b[39m▃\u001b[39m▃\u001b[39m▂\u001b[39m▂\u001b[39m▂\u001b[39m▂\u001b[39m▂\u001b[39m▂\u001b[39m▂\u001b[39m▁\u001b[39m▂\u001b[39m▁\u001b[39m▁\u001b[39m▁\u001b[39m▁\u001b[39m▁\u001b[39m▁\u001b[39m▁\u001b[39m▁\u001b[39m▁\u001b[39m▁\u001b[39m▁\u001b[39m▁\u001b[39m▁\u001b[39m▁\u001b[39m▁\u001b[39m▁\u001b[39m▁\u001b[39m▁\u001b[39m▂\u001b[39m▁\u001b[39m▁\u001b[39m▁\u001b[39m▁\u001b[39m▁\u001b[39m▁\u001b[39m▁\u001b[39m▁\u001b[39m▁\u001b[39m▁\u001b[39m▂\u001b[39m▁\u001b[39m▁\u001b[39m▂\u001b[39m▂\u001b[39m \u001b[39m▂\n",
       "  2.52 ms\u001b[90m         Histogram: frequency by time\u001b[39m        7.73 ms \u001b[0m\u001b[1m<\u001b[22m\n",
       "\n",
       " Memory estimate\u001b[90m: \u001b[39m\u001b[33m1.07 MiB\u001b[39m, allocs estimate\u001b[90m: \u001b[39m\u001b[33m1175\u001b[39m."
      ]
     },
     "execution_count": 5,
     "metadata": {},
     "output_type": "execute_result"
    }
   ],
   "source": [
    "using BenchmarkTools\n",
    "@benchmark $run_model($p,I=$(-1),SOC=$1)"
   ]
  },
  {
   "cell_type": "markdown",
   "metadata": {},
   "source": [
    "We see a runtime of 3.1 ms averaged over 1632 runs."
   ]
  },
  {
   "cell_type": "code",
   "execution_count": null,
   "metadata": {},
   "outputs": [],
   "source": []
  }
 ],
 "metadata": {
  "@webio": {
   "lastCommId": null,
   "lastKernelId": null
  },
  "kernelspec": {
   "display_name": "Julia 1.6.0-rc1",
   "language": "julia",
   "name": "julia-1.6"
  },
  "language_info": {
   "file_extension": ".jl",
   "mimetype": "application/julia",
   "name": "julia",
   "version": "1.6.1"
  },
  "varInspector": {
   "cols": {
    "lenName": 16,
    "lenType": 16,
    "lenVar": 40
   },
   "kernels_config": {
    "python": {
     "delete_cmd_postfix": "",
     "delete_cmd_prefix": "del ",
     "library": "var_list.py",
     "varRefreshCmd": "print(var_dic_list())"
    },
    "r": {
     "delete_cmd_postfix": ") ",
     "delete_cmd_prefix": "rm(",
     "library": "var_list.r",
     "varRefreshCmd": "cat(var_dic_list()) "
    }
   },
   "types_to_exclude": [
    "module",
    "function",
    "builtin_function_or_method",
    "instance",
    "_Feature"
   ],
   "window_display": false
  }
 },
 "nbformat": 4,
 "nbformat_minor": 4
}
