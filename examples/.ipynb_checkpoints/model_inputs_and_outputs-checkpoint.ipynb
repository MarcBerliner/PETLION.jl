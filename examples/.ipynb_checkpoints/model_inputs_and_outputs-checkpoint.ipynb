{
 "cells": [
  {
   "cell_type": "markdown",
   "metadata": {},
   "source": [
    "Start by loading the PETLION package"
   ]
  },
  {
   "cell_type": "code",
   "execution_count": 1,
   "metadata": {},
   "outputs": [],
   "source": [
    "using PETLION"
   ]
  },
  {
   "cell_type": "markdown",
   "metadata": {},
   "source": [
    "Loading the parameters for an LCO cell"
   ]
  },
  {
   "cell_type": "code",
   "execution_count": 2,
   "metadata": {},
   "outputs": [],
   "source": [
    "p = petlion(LCO;\n",
    "    N_p = 10, # discretizations in the cathode\n",
    "    N_s = 10, # discretizations in the separator\n",
    "    N_n = 10, # discretizations in the anode\n",
    "    N_r_p = 10, # discretizations in the solid cathode particles\n",
    "    N_r_n = 10, # discretizations in the solid anode particles\n",
    "    temperature = false, # temperature enabled or disabled\n",
    "    jacobian = :AD # :symbolic or :AD\n",
    "    );"
   ]
  },
  {
   "cell_type": "markdown",
   "metadata": {},
   "source": [
    "# 1. Input options\n",
    "Once the model is loaded, discretizations and numerical options (temperature, aging, Fickian diffusion, etc.) cannot be modifed.\n",
    "\n",
    "What **can** be modified is in `p.opts` and `p.bounds`.\n",
    "\n",
    "`p.opts`:\n",
    "- `p.opts.SOC` -  Initial state of charge for a new simulation between 0 and 1\n",
    "- `p.opts.outputs` -  Saving model states is expensive. What states do you want to keep? See the output of `sol` below for more info. Must be a Symbol or a tuple of Symbols\n",
    "- `p.opts.abstol` -  Absolute tolerance of DAE solver\n",
    "- `p.opts.reltol` -  Relative tolerance of DAE solver\n",
    "- `p.opts.maxiters` -  Maximum iterations for the DAE solver\n",
    "- `p.opts.check_bounds` -  Flag to check the bounds during simulation (SOC max/min, V max/min, etc.)\n",
    "- `p.opts.reinit` -  Get a new initial guess for DAE initialization\n",
    "- `p.opts.verbose` -  Show some outputs during simulation runtime\n",
    "- `p.opts.interp_final` -  Interpolate the final results to match the exact simulation end point\n",
    "- `p.opts.tstops` -  Times when the DAE solver explicitly stops\n",
    "- `p.opts.tdiscon` -  For input functions, times when there is a known discontinuity. Unknown discontinuities are handled automatically but less efficiently\n",
    "- `p.opts.stop_function` - A custom stop function which terminates the simulation. See the file `src/checks.jl` for more information.\n",
    "- `p.opts.interp_bc` -  `:interpolate` or `:extrapolate` when interpolating the model\n",
    "# \n",
    "\n",
    "`p.bounds` (a value of `NaN` deactivates the bound):\n",
    "- `p.bounds.V_max` - Maximum permitted voltage [V]\n",
    "- `p.bounds.V_min` - Minimum permitted voltage [V]\n",
    "- `p.bounds.SOC_max` - Maximum permitted SOC [-]\n",
    "- `p.bounds.SOC_min` - Minimum permitted SOC [-]\n",
    "- `p.bounds.T_max` - Maximum permitted temperature [K]\n",
    "- `p.bounds.c_s_n_max` - Maximum permitted solid surface concentration in the anode [mol/m³]\n",
    "- `p.bounds.I_max` - Maximum permitted current [C-rate]\n",
    "- `p.bounds.I_min` - Minimum permitted current [C-rate]\n",
    "- `p.bounds.η_plating_min` - Minimum permitted plating overpotential at the separator-anode interface [V]\n",
    "- `p.bounds.c_e_min` - Minimum permitted electrolyte concentration [mol/m³]"
   ]
  },
  {
   "cell_type": "markdown",
   "metadata": {},
   "source": [
    "# 2. Model output options\n",
    "As an example, let's run a CC-CV simulation. *Everything* that may be modified in `p.opts` can also be modified as an input to `simulate`. Modifcations in `simulate`, however, are *only* for that particular run."
   ]
  },
  {
   "cell_type": "code",
   "execution_count": 3,
   "metadata": {},
   "outputs": [
    {
     "data": {
      "text/plain": [
       "PETLION simulation\n",
       "  --------\n",
       "  Runs:    I → V\n",
       "  Time:    2440.61 s\n",
       "  Current: 0.1955C\n",
       "  Voltage: 4.1 V\n",
       "  Power:   23.432 W\n",
       "  SOC:     1.0001\n",
       "  Exit:    Above maximum SOC limit"
      ]
     },
     "execution_count": 3,
     "metadata": {},
     "output_type": "execute_result"
    }
   ],
   "source": [
    "sol = simulate(p, I=2, SOC=0, V_max=4.1)\n",
    "simulate!(sol, p, V=:hold)"
   ]
  },
  {
   "cell_type": "markdown",
   "metadata": {},
   "source": [
    "The `sol` outputs are:\n",
    "- `I`- Current [C-rate]\n",
    "- `t`- Time [s]\n",
    "- `V`- Voltage [V]\n",
    "- `P`- Power [W]\n",
    "- `SOC`- State-of-charge [-]\n",
    "- `SOH`- State-of-health [-] (**only if `aging=:SEI`**)\n",
    "- `c_e`- Electrolyte concentrations [mol/m³]\n",
    "- `c_s_avg`- Volume-averaged solid concentrations [mol/m³]\n",
    "- `T`- Temperature (if temperature is enabled) [K]\n",
    "- `film`- Film thickness (if aging == :SEI) [m]\n",
    "- `Q`- Variable for polynomial (if solid_diffusion is :polynomial)\n",
    "- `j`- Ionic flux [mol/(m²⋅s)]\n",
    "- `j_s`- Side reaction flux (if aging == :SEI) [mol/(m²⋅s)]\n",
    "- `Φ_e`- Electrolyte potential [V]\n",
    "- `Φ_s`- Solid potential [V]\n",
    "- `Y`- All algebraic states\n",
    "- `YP`- All differential states\n",
    "- `results`- Info about the simulation output"
   ]
  },
  {
   "cell_type": "code",
   "execution_count": 4,
   "metadata": {},
   "outputs": [
    {
     "data": {
      "text/plain": [
       "121-element Vector{Float64}:\n",
       " 2.863495104606893\n",
       " 2.865170253399941\n",
       " 2.866568570106355\n",
       " 2.869281089486519\n",
       " 2.8744019423330527\n",
       " 2.8792244141544447\n",
       " 2.8837821130939005\n",
       " 2.892320319237954\n",
       " 2.900065446316509\n",
       " 2.913597082908028\n",
       " 2.923964217693458\n",
       " 2.9330345564218385\n",
       " 2.9410644384095366\n",
       " ⋮\n",
       " 4.1000000000000005\n",
       " 4.1000000000000005\n",
       " 4.099999999999999\n",
       " 4.099999999999999\n",
       " 4.1000000000000005\n",
       " 4.1000000000000005\n",
       " 4.1000000000000005\n",
       " 4.1000000000000005\n",
       " 4.1000000000000005\n",
       " 4.1\n",
       " 4.100000000000001\n",
       " 4.100000000000001"
      ]
     },
     "execution_count": 4,
     "metadata": {},
     "output_type": "execute_result"
    }
   ],
   "source": [
    "sol.V"
   ]
  },
  {
   "cell_type": "markdown",
   "metadata": {},
   "source": [
    "For example, since `:c_e` was not selected as a default output of the model, we do not have any saved results for it"
   ]
  },
  {
   "cell_type": "code",
   "execution_count": 5,
   "metadata": {},
   "outputs": [
    {
     "data": {
      "text/plain": [
       "VectorOfArray{Float64,2}:\n",
       "Vector{Float64}[]"
      ]
     },
     "execution_count": 5,
     "metadata": {},
     "output_type": "execute_result"
    }
   ],
   "source": [
    "sol.c_e"
   ]
  },
  {
   "cell_type": "markdown",
   "metadata": {},
   "source": [
    "We can change that by setting `p.opts.outputs = (:t, :V, :c_e)` or `p.opts.outputs = :all`"
   ]
  },
  {
   "cell_type": "code",
   "execution_count": 15,
   "metadata": {
    "scrolled": false
   },
   "outputs": [
    {
     "data": {
      "text/plain": [
       "VectorOfArray{Float64,2}:\n",
       "5-element Vector{Vector{Float64}}:\n",
       " [1000.0, 1000.0, 1000.0, 1000.0, 1000.0, 1000.0, 1000.0, 1000.0, 1000.0, 1000.0  …  1000.0, 1000.0, 1000.0, 1000.0, 1000.0, 1000.0, 1000.0, 1000.0, 1000.0, 1000.0]\n",
       " [1000.0246810521407, 1000.025500591503, 1000.027200739514, 1000.0299017084039, 1000.0338159259898, 1000.0393000324518, 1000.046955492478, 1000.0578298787584, 1000.0738433640824, 1000.0982176680257  …  999.9471382762446, 999.9545262360734, 999.960542770858, 999.9652205050165, 999.968862403492, 999.9716723186187, 999.9737883427057, 999.9753038639269, 999.9762803743694, 999.9767552213805]\n",
       " [1000.0457507671307, 1000.0472657677043, 1000.0504083310328, 1000.0553999851808, 1000.0626318686805, 1000.0727598578029, 1000.0868880747166, 1000.1069344585206, 1000.136398824502, 1000.180707223767  …  999.9029275810425, 999.9161029753135, 999.9271110809376, 999.9356863381435, 999.9423711374171, 999.9475335319402, 999.9514236647061, 999.9542111142478, 999.9560077393445, 999.9568815866909]\n",
       " [1000.0883396529853, 1000.0912437989905, 1000.097266187018, 1000.1068279342236, 1000.1206709587157, 1000.1400353862174, 1000.166999080411, 1000.2051466185494, 1000.2609375471901, 1000.3421905682671  …  999.8170174879884, 999.8399626938615, 999.8605151662398, 999.8766084891965, 999.8891930590923, 999.8989336348214, 999.9062856951517, 999.9115598675722, 999.9149619482228, 999.9166176348591]\n",
       " [1000.1752220123809, 1000.1808954385681, 1000.1926536568014, 1000.2113048263153, 1000.2382663119209, 1000.2758917885075, 1000.328087227376, 1000.4014971374459, 1000.5077435355438, 1000.6522760201249  …  999.6539046954927, 999.6901812638146, 999.7282872385647, 999.7584631323491, 999.7821956440799, 999.8006418525772, 999.8146074074198, 999.8246477387702, 999.8311337940534, 999.8342939113072]"
      ]
     },
     "execution_count": 15,
     "metadata": {},
     "output_type": "execute_result"
    }
   ],
   "source": [
    "p.opts.outputs = (:t, :V, :c_e,)\n",
    "sol = simulate(p, I=2, SOC=0, V_max=4.1)\n",
    "simulate!(sol, p, V=:hold)\n",
    "sol.c_e[1:5]"
   ]
  },
  {
   "cell_type": "markdown",
   "metadata": {},
   "source": [
    "To **only** get the results of one particular run, we can index the model"
   ]
  },
  {
   "cell_type": "code",
   "execution_count": 7,
   "metadata": {},
   "outputs": [
    {
     "data": {
      "text/plain": [
       "PETLION simulation\n",
       "  --------\n",
       "  Run:     I\n",
       "  Time:    1388.68 s\n",
       "  Current: 0.1955C\n",
       "  Voltage: 4.1 V\n",
       "  Power:   23.432 W\n",
       "  SOC:     1.0001\n",
       "  Exit:    Above maximum voltage limit"
      ]
     },
     "execution_count": 7,
     "metadata": {},
     "output_type": "execute_result"
    }
   ],
   "source": [
    "sol[1] # CC section"
   ]
  },
  {
   "cell_type": "code",
   "execution_count": 8,
   "metadata": {},
   "outputs": [
    {
     "data": {
      "text/plain": [
       "PETLION simulation\n",
       "  --------\n",
       "  Run:     V\n",
       "  Time:    2440.61 s\n",
       "  Current: 0.1955C\n",
       "  Voltage: 4.1 V\n",
       "  Power:   23.432 W\n",
       "  SOC:     1.0001\n",
       "  Exit:    Above maximum SOC limit"
      ]
     },
     "execution_count": 8,
     "metadata": {},
     "output_type": "execute_result"
    }
   ],
   "source": [
    "sol[end] # CV section"
   ]
  },
  {
   "cell_type": "markdown",
   "metadata": {},
   "source": [
    "We can also post-interpolate the model"
   ]
  },
  {
   "cell_type": "code",
   "execution_count": 9,
   "metadata": {},
   "outputs": [
    {
     "data": {
      "text/plain": [
       "PETLION simulation\n",
       "  --------\n",
       "  Runs:    I → V\n",
       "  Time:    2440.61 s\n",
       "  Current: 0.1955C\n",
       "  Voltage: 4.1 V\n",
       "  Power:   23.432 W\n",
       "  SOC:     1.0001\n",
       "  Exit:    Above maximum SOC limit"
      ]
     },
     "execution_count": 9,
     "metadata": {},
     "output_type": "execute_result"
    }
   ],
   "source": [
    "t_interp = range(0, sol.t[end]; length=1000)\n",
    "sol_interp = sol(t_interp)"
   ]
  }
 ],
 "metadata": {
  "@webio": {
   "lastCommId": null,
   "lastKernelId": null
  },
  "kernelspec": {
   "display_name": "Julia 1.7 Multithread",
   "language": "julia",
   "name": "julia-1_7_multithread"
  },
  "language_info": {
   "file_extension": ".jl",
   "mimetype": "application/julia",
   "name": "julia",
   "version": "1.7.1"
  },
  "varInspector": {
   "cols": {
    "lenName": 16,
    "lenType": 16,
    "lenVar": 40
   },
   "kernels_config": {
    "python": {
     "delete_cmd_postfix": "",
     "delete_cmd_prefix": "del ",
     "library": "var_list.py",
     "varRefreshCmd": "print(var_dic_list())"
    },
    "r": {
     "delete_cmd_postfix": ") ",
     "delete_cmd_prefix": "rm(",
     "library": "var_list.r",
     "varRefreshCmd": "cat(var_dic_list()) "
    }
   },
   "types_to_exclude": [
    "module",
    "function",
    "builtin_function_or_method",
    "instance",
    "_Feature"
   ],
   "window_display": false
  }
 },
 "nbformat": 4,
 "nbformat_minor": 4
}
