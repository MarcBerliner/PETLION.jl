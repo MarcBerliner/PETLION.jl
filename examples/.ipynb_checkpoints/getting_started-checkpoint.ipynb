{
 "cells": [
  {
   "cell_type": "markdown",
   "metadata": {},
   "source": [
    "Start by loading the PETLION package"
   ]
  },
  {
   "cell_type": "code",
   "execution_count": 1,
   "metadata": {},
   "outputs": [],
   "source": [
    "using PETLION"
   ]
  },
  {
   "cell_type": "markdown",
   "metadata": {},
   "source": [
    "Let's see how long it takes to create the symbolic model for an isothermal, LCO battery"
   ]
  },
  {
   "cell_type": "code",
   "execution_count": 2,
   "metadata": {},
   "outputs": [
    {
     "name": "stdout",
     "output_type": "stream",
     "text": [
      "Creating the functions for PETLION model_skeleton:\n",
      "  Cathode: LCO, rxn_BV, & OCV_LCO\n",
      "  Anode:   LiC6, rxn_BV, & OCV_LiC6\n",
      "  System:  D_s_eff, rxn_rate, D_eff_linear, K_eff, & thermodynamic_factor_linear\n",
      "  --------\n",
      "  Temperature:     false\n",
      "  Solid diffusion: Fickian, finite_difference\n",
      "  Aging:           false\n",
      "  Voltage bounds:  [2.5 V, 4.3 V]\n",
      "  SOC bounds:      [0.0, 1.0]\n",
      "  --------\n",
      "  N.p:   10\n",
      "  N.r_p: 10\n",
      "  N.s:   10\n",
      "  N.n:   10\n",
      "  N.r_n: 10\n",
      "\n",
      "May take a few minutes...\n",
      "1/4: Making initial guess function\n",
      "2/4: Making symbolic sol\n",
      "3/4: Making symbolic Jacobian\n",
      "4/4: Making initial condition functions\n",
      "Finished\n",
      "\n",
      "114.133930 seconds (262.10 M allocations: 13.459 GiB, 3.26% gc time, 73.69% compilation time)\n"
     ]
    }
   ],
   "source": [
    "@time p = petlion(\n",
    "    LCO;\n",
    "    N_p = 10, # discretizations in the cathode\n",
    "    N_s = 10, # discretizations in the separator\n",
    "    N_n = 10, # discretizations in the anode\n",
    "    N_r_p = 10, # discretizations in the solid cathode particles\n",
    "    N_r_n = 10, # discretizations in the solid anode particles\n",
    "    temperature = false, # temperature enabled or disabled\n",
    "    jacobian = :symbolic, # :AD (automatic-differenation) for convenience or :symbolic for speed\n",
    ");"
   ]
  },
  {
   "cell_type": "markdown",
   "metadata": {},
   "source": [
    "Quite awhile! The good news is we only need to do this once, every other time the model is loaded from the folder `saved_models` in your working directory which is much faster. Alternatively, you can select `jacobian = :AD` to create the model on-the-fly.\n",
    "\n",
    "Now, let's try running a 1C discharge starting from full capacity."
   ]
  },
  {
   "cell_type": "code",
   "execution_count": 3,
   "metadata": {},
   "outputs": [
    {
     "name": "stdout",
     "output_type": "stream",
     "text": [
      " 64.566946 seconds (158.32 M allocations: 27.040 GiB, 24.59% gc time, 99.98% compilation time)\n"
     ]
    },
    {
     "data": {
      "text/plain": [
       "PETLION simulation\n",
       "  --------\n",
       "  Run:     I\n",
       "  Time:    1.0 hr\n",
       "  Current: -1C\n",
       "  Voltage: 2.9357 V\n",
       "  Power:   -85.8094 W\n",
       "  SOC:     -0.0\n",
       "  Exit:    Below minimum SOC limit"
      ]
     },
     "execution_count": 3,
     "metadata": {},
     "output_type": "execute_result"
    }
   ],
   "source": [
    "@time sol = simulate(p,I=-1,SOC=1)"
   ]
  },
  {
   "cell_type": "markdown",
   "metadata": {},
   "source": [
    "Since Julia is a compiled language, the first run of a function is going to be a little slow. If we run it a few more times we will see its real speed."
   ]
  },
  {
   "cell_type": "code",
   "execution_count": 4,
   "metadata": {},
   "outputs": [
    {
     "name": "stdout",
     "output_type": "stream",
     "text": [
      "  0.037023 seconds (5.05 k allocations: 1.046 MiB, 91.00% compilation time)\n",
      "  0.003317 seconds (1.17 k allocations: 885.148 KiB)\n",
      "  0.003357 seconds (1.17 k allocations: 885.148 KiB)\n",
      "  0.003173 seconds (1.17 k allocations: 885.148 KiB)\n"
     ]
    },
    {
     "data": {
      "text/plain": [
       "PETLION simulation\n",
       "  --------\n",
       "  Run:     I\n",
       "  Time:    1.0 hr\n",
       "  Current: -1C\n",
       "  Voltage: 2.9357 V\n",
       "  Power:   -85.8094 W\n",
       "  SOC:     -0.0\n",
       "  Exit:    Below minimum SOC limit"
      ]
     },
     "execution_count": 4,
     "metadata": {},
     "output_type": "execute_result"
    }
   ],
   "source": [
    "@time sol = simulate(p,I=-1,SOC=1)\n",
    "@time sol = simulate(p,I=-1,SOC=1)\n",
    "@time sol = simulate(p,I=-1,SOC=1)\n",
    "@time sol = simulate(p,I=-1,SOC=1)"
   ]
  },
  {
   "cell_type": "markdown",
   "metadata": {},
   "source": [
    "Now we're seeing the performance we want! Let's use the package `BenchmarkTools` to get a more in-depth view of the performance"
   ]
  },
  {
   "cell_type": "code",
   "execution_count": 5,
   "metadata": {},
   "outputs": [
    {
     "data": {
      "text/plain": [
       "BenchmarkTools.Trial: 1878 samples with 1 evaluation.\n",
       " Range \u001b[90m(\u001b[39m\u001b[36m\u001b[1mmin\u001b[22m\u001b[39m … \u001b[35mmax\u001b[39m\u001b[90m):  \u001b[39m\u001b[36m\u001b[1m2.439 ms\u001b[22m\u001b[39m … \u001b[35m  5.195 ms\u001b[39m  \u001b[90m┊\u001b[39m GC \u001b[90m(\u001b[39mmin … max\u001b[90m): \u001b[39m0.00% … 43.70%\n",
       " Time  \u001b[90m(\u001b[39m\u001b[34m\u001b[1mmedian\u001b[22m\u001b[39m\u001b[90m):     \u001b[39m\u001b[34m\u001b[1m2.616 ms               \u001b[22m\u001b[39m\u001b[90m┊\u001b[39m GC \u001b[90m(\u001b[39mmedian\u001b[90m):    \u001b[39m0.00%\n",
       " Time  \u001b[90m(\u001b[39m\u001b[32m\u001b[1mmean\u001b[22m\u001b[39m ± \u001b[32mσ\u001b[39m\u001b[90m):   \u001b[39m\u001b[32m\u001b[1m2.657 ms\u001b[22m\u001b[39m ± \u001b[32m259.827 μs\u001b[39m  \u001b[90m┊\u001b[39m GC \u001b[90m(\u001b[39mmean ± σ\u001b[90m):  \u001b[39m0.84% ±  4.51%\n",
       "\n",
       "  \u001b[39m \u001b[39m \u001b[39m▂\u001b[39m█\u001b[39m▇\u001b[34m█\u001b[39m\u001b[32m▅\u001b[39m\u001b[39m▃\u001b[39m▂\u001b[39m▁\u001b[39m \u001b[39m \u001b[39m \u001b[39m \u001b[39m \u001b[39m \u001b[39m \u001b[39m \u001b[39m \u001b[39m \u001b[39m \u001b[39m \u001b[39m \u001b[39m \u001b[39m \u001b[39m \u001b[39m \u001b[39m \u001b[39m \u001b[39m \u001b[39m \u001b[39m \u001b[39m \u001b[39m \u001b[39m \u001b[39m \u001b[39m \u001b[39m \u001b[39m \u001b[39m \u001b[39m \u001b[39m \u001b[39m \u001b[39m \u001b[39m \u001b[39m \u001b[39m \u001b[39m \u001b[39m \u001b[39m \u001b[39m \u001b[39m \u001b[39m \u001b[39m \u001b[39m \u001b[39m \u001b[39m \u001b[39m \u001b[39m \u001b[39m \u001b[39m▁\n",
       "  \u001b[39m▅\u001b[39m▆\u001b[39m█\u001b[39m█\u001b[39m█\u001b[34m█\u001b[39m\u001b[32m█\u001b[39m\u001b[39m█\u001b[39m█\u001b[39m█\u001b[39m█\u001b[39m▆\u001b[39m▆\u001b[39m▆\u001b[39m▆\u001b[39m▆\u001b[39m▆\u001b[39m▅\u001b[39m▆\u001b[39m▆\u001b[39m▅\u001b[39m▅\u001b[39m▄\u001b[39m▄\u001b[39m▄\u001b[39m▄\u001b[39m▄\u001b[39m▄\u001b[39m▄\u001b[39m▁\u001b[39m▄\u001b[39m▄\u001b[39m▄\u001b[39m▁\u001b[39m▁\u001b[39m▁\u001b[39m▁\u001b[39m▁\u001b[39m▁\u001b[39m▁\u001b[39m▄\u001b[39m▁\u001b[39m▁\u001b[39m▁\u001b[39m▁\u001b[39m▁\u001b[39m▁\u001b[39m▁\u001b[39m▁\u001b[39m▁\u001b[39m▁\u001b[39m▁\u001b[39m▁\u001b[39m▁\u001b[39m▁\u001b[39m▁\u001b[39m▁\u001b[39m▁\u001b[39m▄\u001b[39m \u001b[39m█\n",
       "  2.44 ms\u001b[90m      \u001b[39m\u001b[90mHistogram: \u001b[39m\u001b[90m\u001b[1mlog(\u001b[22m\u001b[39m\u001b[90mfrequency\u001b[39m\u001b[90m\u001b[1m)\u001b[22m\u001b[39m\u001b[90m by time\u001b[39m      4.58 ms \u001b[0m\u001b[1m<\u001b[22m\n",
       "\n",
       " Memory estimate\u001b[90m: \u001b[39m\u001b[33m884.99 KiB\u001b[39m, allocs estimate\u001b[90m: \u001b[39m\u001b[33m1169\u001b[39m."
      ]
     },
     "execution_count": 5,
     "metadata": {},
     "output_type": "execute_result"
    }
   ],
   "source": [
    "using BenchmarkTools\n",
    "@benchmark $simulate($p,I=$(-1),SOC=$1)"
   ]
  },
  {
   "cell_type": "markdown",
   "metadata": {},
   "source": [
    "We see a runtime of 2.7 ms averaged over 1872 runs."
   ]
  }
 ],
 "metadata": {
  "@webio": {
   "lastCommId": null,
   "lastKernelId": null
  },
  "kernelspec": {
   "display_name": "Julia 1.7 Multithread",
   "language": "julia",
   "name": "julia-1_7_multithread"
  },
  "language_info": {
   "file_extension": ".jl",
   "mimetype": "application/julia",
   "name": "julia",
   "version": "1.7.1"
  },
  "varInspector": {
   "cols": {
    "lenName": 16,
    "lenType": 16,
    "lenVar": 40
   },
   "kernels_config": {
    "python": {
     "delete_cmd_postfix": "",
     "delete_cmd_prefix": "del ",
     "library": "var_list.py",
     "varRefreshCmd": "print(var_dic_list())"
    },
    "r": {
     "delete_cmd_postfix": ") ",
     "delete_cmd_prefix": "rm(",
     "library": "var_list.r",
     "varRefreshCmd": "cat(var_dic_list()) "
    }
   },
   "types_to_exclude": [
    "module",
    "function",
    "builtin_function_or_method",
    "instance",
    "_Feature"
   ],
   "window_display": false
  }
 },
 "nbformat": 4,
 "nbformat_minor": 4
}
